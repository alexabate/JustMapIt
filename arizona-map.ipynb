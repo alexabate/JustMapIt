{
 "cells": [
  {
   "cell_type": "markdown",
   "metadata": {},
   "source": [
    "# Mapping out Grocery Stores\n",
    "\n",
    "## Procedure:\n",
    "- Import census data\n",
    "- Import local grocery store data\n",
    "- Use Folium to assign data to geographic regions and map it!\n"
   ]
  },
  {
   "cell_type": "code",
   "execution_count": 1,
   "metadata": {
    "collapsed": true
   },
   "outputs": [],
   "source": [
    "import pandas as pd\n",
    "import numpy as np\n",
    "import folium"
   ]
  },
  {
   "cell_type": "markdown",
   "metadata": {},
   "source": [
    "### Import census data"
   ]
  },
  {
   "cell_type": "code",
   "execution_count": 2,
   "metadata": {
    "collapsed": false
   },
   "outputs": [],
   "source": [
    "# food stamp census data\n",
    "food_df = pd.read_csv(\"ACS_14_5YR_S2201/ACS_14_5YR_S2201_with_ann.csv\", header=[0,1], dtype={0:str, 1:str})"
   ]
  },
  {
   "cell_type": "code",
   "execution_count": 3,
   "metadata": {
    "collapsed": false
   },
   "outputs": [],
   "source": [
    "# household income census data\n",
    "income_df = pd.read_csv(\"ACS_14_5YR_S1901/ACS_14_5YR_S1901_with_ann.csv\", header=[0,1], dtype={0:str, 1:str})"
   ]
  },
  {
   "cell_type": "code",
   "execution_count": 4,
   "metadata": {
    "collapsed": false
   },
   "outputs": [],
   "source": [
    "# remove secondary column label\n",
    "levels = income_df.columns.levels\n",
    "labels = income_df.columns.labels\n",
    "income_df.columns = levels[1][labels[1]]"
   ]
  },
  {
   "cell_type": "code",
   "execution_count": 5,
   "metadata": {
    "collapsed": false
   },
   "outputs": [
    {
     "data": {
      "text/html": [
       "<div>\n",
       "<table border=\"1\" class=\"dataframe\">\n",
       "  <thead>\n",
       "    <tr style=\"text-align: right;\">\n",
       "      <th></th>\n",
       "      <th>Id</th>\n",
       "      <th>Id2</th>\n",
       "      <th>Geography</th>\n",
       "      <th>Households; Estimate; Total</th>\n",
       "      <th>Households; Margin of Error; Total</th>\n",
       "      <th>Families; Estimate; Total</th>\n",
       "      <th>Families; Margin of Error; Total</th>\n",
       "      <th>Married-couple families; Estimate; Total</th>\n",
       "      <th>Married-couple families; Margin of Error; Total</th>\n",
       "      <th>Nonfamily households; Estimate; Total</th>\n",
       "      <th>...</th>\n",
       "      <th>Nonfamily households; Estimate; PERCENT IMPUTED - Family income in the past 12 months</th>\n",
       "      <th>Nonfamily households; Margin of Error; PERCENT IMPUTED - Family income in the past 12 months</th>\n",
       "      <th>Households; Estimate; PERCENT IMPUTED - Nonfamily income in the past 12 months</th>\n",
       "      <th>Households; Margin of Error; PERCENT IMPUTED - Nonfamily income in the past 12 months</th>\n",
       "      <th>Families; Estimate; PERCENT IMPUTED - Nonfamily income in the past 12 months</th>\n",
       "      <th>Families; Margin of Error; PERCENT IMPUTED - Nonfamily income in the past 12 months</th>\n",
       "      <th>Married-couple families; Estimate; PERCENT IMPUTED - Nonfamily income in the past 12 months</th>\n",
       "      <th>Married-couple families; Margin of Error; PERCENT IMPUTED - Nonfamily income in the past 12 months</th>\n",
       "      <th>Nonfamily households; Estimate; PERCENT IMPUTED - Nonfamily income in the past 12 months</th>\n",
       "      <th>Nonfamily households; Margin of Error; PERCENT IMPUTED - Nonfamily income in the past 12 months</th>\n",
       "    </tr>\n",
       "  </thead>\n",
       "  <tbody>\n",
       "    <tr>\n",
       "      <th>0</th>\n",
       "      <td>1400000US04019000100</td>\n",
       "      <td>04019000100</td>\n",
       "      <td>Census Tract 1, Pima County, Arizona</td>\n",
       "      <td>319</td>\n",
       "      <td>50</td>\n",
       "      <td>48</td>\n",
       "      <td>38</td>\n",
       "      <td>34</td>\n",
       "      <td>31</td>\n",
       "      <td>271</td>\n",
       "      <td>...</td>\n",
       "      <td>(X)</td>\n",
       "      <td>(X)</td>\n",
       "      <td>(X)</td>\n",
       "      <td>(X)</td>\n",
       "      <td>(X)</td>\n",
       "      <td>(X)</td>\n",
       "      <td>(X)</td>\n",
       "      <td>(X)</td>\n",
       "      <td>13.7</td>\n",
       "      <td>(X)</td>\n",
       "    </tr>\n",
       "    <tr>\n",
       "      <th>1</th>\n",
       "      <td>1400000US04019000200</td>\n",
       "      <td>04019000200</td>\n",
       "      <td>Census Tract 2, Pima County, Arizona</td>\n",
       "      <td>1916</td>\n",
       "      <td>189</td>\n",
       "      <td>914</td>\n",
       "      <td>182</td>\n",
       "      <td>452</td>\n",
       "      <td>145</td>\n",
       "      <td>1002</td>\n",
       "      <td>...</td>\n",
       "      <td>(X)</td>\n",
       "      <td>(X)</td>\n",
       "      <td>(X)</td>\n",
       "      <td>(X)</td>\n",
       "      <td>(X)</td>\n",
       "      <td>(X)</td>\n",
       "      <td>(X)</td>\n",
       "      <td>(X)</td>\n",
       "      <td>26.7</td>\n",
       "      <td>(X)</td>\n",
       "    </tr>\n",
       "    <tr>\n",
       "      <th>2</th>\n",
       "      <td>1400000US04019000300</td>\n",
       "      <td>04019000300</td>\n",
       "      <td>Census Tract 3, Pima County, Arizona</td>\n",
       "      <td>680</td>\n",
       "      <td>86</td>\n",
       "      <td>244</td>\n",
       "      <td>54</td>\n",
       "      <td>109</td>\n",
       "      <td>54</td>\n",
       "      <td>436</td>\n",
       "      <td>...</td>\n",
       "      <td>(X)</td>\n",
       "      <td>(X)</td>\n",
       "      <td>(X)</td>\n",
       "      <td>(X)</td>\n",
       "      <td>(X)</td>\n",
       "      <td>(X)</td>\n",
       "      <td>(X)</td>\n",
       "      <td>(X)</td>\n",
       "      <td>22.5</td>\n",
       "      <td>(X)</td>\n",
       "    </tr>\n",
       "    <tr>\n",
       "      <th>3</th>\n",
       "      <td>1400000US04019000400</td>\n",
       "      <td>04019000400</td>\n",
       "      <td>Census Tract 4, Pima County, Arizona</td>\n",
       "      <td>1719</td>\n",
       "      <td>97</td>\n",
       "      <td>395</td>\n",
       "      <td>101</td>\n",
       "      <td>253</td>\n",
       "      <td>78</td>\n",
       "      <td>1324</td>\n",
       "      <td>...</td>\n",
       "      <td>(X)</td>\n",
       "      <td>(X)</td>\n",
       "      <td>(X)</td>\n",
       "      <td>(X)</td>\n",
       "      <td>(X)</td>\n",
       "      <td>(X)</td>\n",
       "      <td>(X)</td>\n",
       "      <td>(X)</td>\n",
       "      <td>27.5</td>\n",
       "      <td>(X)</td>\n",
       "    </tr>\n",
       "    <tr>\n",
       "      <th>4</th>\n",
       "      <td>1400000US04019000500</td>\n",
       "      <td>04019000500</td>\n",
       "      <td>Census Tract 5, Pima County, Arizona</td>\n",
       "      <td>1544</td>\n",
       "      <td>119</td>\n",
       "      <td>309</td>\n",
       "      <td>98</td>\n",
       "      <td>158</td>\n",
       "      <td>64</td>\n",
       "      <td>1235</td>\n",
       "      <td>...</td>\n",
       "      <td>(X)</td>\n",
       "      <td>(X)</td>\n",
       "      <td>(X)</td>\n",
       "      <td>(X)</td>\n",
       "      <td>(X)</td>\n",
       "      <td>(X)</td>\n",
       "      <td>(X)</td>\n",
       "      <td>(X)</td>\n",
       "      <td>30.8</td>\n",
       "      <td>(X)</td>\n",
       "    </tr>\n",
       "  </tbody>\n",
       "</table>\n",
       "<p>5 rows × 131 columns</p>\n",
       "</div>"
      ],
      "text/plain": [
       "                     Id          Id2                             Geography  \\\n",
       "0  1400000US04019000100  04019000100  Census Tract 1, Pima County, Arizona   \n",
       "1  1400000US04019000200  04019000200  Census Tract 2, Pima County, Arizona   \n",
       "2  1400000US04019000300  04019000300  Census Tract 3, Pima County, Arizona   \n",
       "3  1400000US04019000400  04019000400  Census Tract 4, Pima County, Arizona   \n",
       "4  1400000US04019000500  04019000500  Census Tract 5, Pima County, Arizona   \n",
       "\n",
       "   Households; Estimate; Total  Households; Margin of Error; Total  \\\n",
       "0                          319                                  50   \n",
       "1                         1916                                 189   \n",
       "2                          680                                  86   \n",
       "3                         1719                                  97   \n",
       "4                         1544                                 119   \n",
       "\n",
       "   Families; Estimate; Total  Families; Margin of Error; Total  \\\n",
       "0                         48                                38   \n",
       "1                        914                               182   \n",
       "2                        244                                54   \n",
       "3                        395                               101   \n",
       "4                        309                                98   \n",
       "\n",
       "   Married-couple families; Estimate; Total  \\\n",
       "0                                        34   \n",
       "1                                       452   \n",
       "2                                       109   \n",
       "3                                       253   \n",
       "4                                       158   \n",
       "\n",
       "   Married-couple families; Margin of Error; Total  \\\n",
       "0                                               31   \n",
       "1                                              145   \n",
       "2                                               54   \n",
       "3                                               78   \n",
       "4                                               64   \n",
       "\n",
       "   Nonfamily households; Estimate; Total  \\\n",
       "0                                    271   \n",
       "1                                   1002   \n",
       "2                                    436   \n",
       "3                                   1324   \n",
       "4                                   1235   \n",
       "\n",
       "                                                ...                                                \\\n",
       "0                                               ...                                                 \n",
       "1                                               ...                                                 \n",
       "2                                               ...                                                 \n",
       "3                                               ...                                                 \n",
       "4                                               ...                                                 \n",
       "\n",
       "   Nonfamily households; Estimate; PERCENT IMPUTED - Family income in the past 12 months  \\\n",
       "0                                                (X)                                       \n",
       "1                                                (X)                                       \n",
       "2                                                (X)                                       \n",
       "3                                                (X)                                       \n",
       "4                                                (X)                                       \n",
       "\n",
       "  Nonfamily households; Margin of Error; PERCENT IMPUTED - Family income in the past 12 months  \\\n",
       "0                                                (X)                                             \n",
       "1                                                (X)                                             \n",
       "2                                                (X)                                             \n",
       "3                                                (X)                                             \n",
       "4                                                (X)                                             \n",
       "\n",
       "  Households; Estimate; PERCENT IMPUTED - Nonfamily income in the past 12 months  \\\n",
       "0                                                (X)                               \n",
       "1                                                (X)                               \n",
       "2                                                (X)                               \n",
       "3                                                (X)                               \n",
       "4                                                (X)                               \n",
       "\n",
       "  Households; Margin of Error; PERCENT IMPUTED - Nonfamily income in the past 12 months  \\\n",
       "0                                                (X)                                      \n",
       "1                                                (X)                                      \n",
       "2                                                (X)                                      \n",
       "3                                                (X)                                      \n",
       "4                                                (X)                                      \n",
       "\n",
       "  Families; Estimate; PERCENT IMPUTED - Nonfamily income in the past 12 months  \\\n",
       "0                                                (X)                             \n",
       "1                                                (X)                             \n",
       "2                                                (X)                             \n",
       "3                                                (X)                             \n",
       "4                                                (X)                             \n",
       "\n",
       "  Families; Margin of Error; PERCENT IMPUTED - Nonfamily income in the past 12 months  \\\n",
       "0                                                (X)                                    \n",
       "1                                                (X)                                    \n",
       "2                                                (X)                                    \n",
       "3                                                (X)                                    \n",
       "4                                                (X)                                    \n",
       "\n",
       "  Married-couple families; Estimate; PERCENT IMPUTED - Nonfamily income in the past 12 months  \\\n",
       "0                                                (X)                                            \n",
       "1                                                (X)                                            \n",
       "2                                                (X)                                            \n",
       "3                                                (X)                                            \n",
       "4                                                (X)                                            \n",
       "\n",
       "  Married-couple families; Margin of Error; PERCENT IMPUTED - Nonfamily income in the past 12 months  \\\n",
       "0                                                (X)                                                   \n",
       "1                                                (X)                                                   \n",
       "2                                                (X)                                                   \n",
       "3                                                (X)                                                   \n",
       "4                                                (X)                                                   \n",
       "\n",
       "  Nonfamily households; Estimate; PERCENT IMPUTED - Nonfamily income in the past 12 months  \\\n",
       "0                                               13.7                                         \n",
       "1                                               26.7                                         \n",
       "2                                               22.5                                         \n",
       "3                                               27.5                                         \n",
       "4                                               30.8                                         \n",
       "\n",
       "  Nonfamily households; Margin of Error; PERCENT IMPUTED - Nonfamily income in the past 12 months  \n",
       "0                                                (X)                                               \n",
       "1                                                (X)                                               \n",
       "2                                                (X)                                               \n",
       "3                                                (X)                                               \n",
       "4                                                (X)                                               \n",
       "\n",
       "[5 rows x 131 columns]"
      ]
     },
     "execution_count": 5,
     "metadata": {},
     "output_type": "execute_result"
    }
   ],
   "source": [
    "income_df.head()"
   ]
  },
  {
   "cell_type": "code",
   "execution_count": 6,
   "metadata": {
    "collapsed": false
   },
   "outputs": [
    {
     "data": {
      "text/plain": [
       "count       241\n",
       "unique      240\n",
       "top       27472\n",
       "freq          2\n",
       "Name: Households; Estimate; Median income (dollars), dtype: object"
      ]
     },
     "execution_count": 6,
     "metadata": {},
     "output_type": "execute_result"
    }
   ],
   "source": [
    "median_income = income_df[\"Households; Estimate; Median income (dollars)\"]\n",
    "median_income.describe()"
   ]
  },
  {
   "cell_type": "markdown",
   "metadata": {},
   "source": [
    "### Fix the median_income so that its a float\n",
    "\n",
    "Have to pull out null values"
   ]
  },
  {
   "cell_type": "code",
   "execution_count": 7,
   "metadata": {
    "collapsed": false
   },
   "outputs": [
    {
     "data": {
      "text/plain": [
       "count       240.000000\n",
       "mean      50339.804167\n",
       "std       21997.961866\n",
       "min       13193.000000\n",
       "25%       32084.750000\n",
       "50%       45885.000000\n",
       "75%       65922.500000\n",
       "max      112596.000000\n",
       "Name: Households; Estimate; Median income (dollars), dtype: float64"
      ]
     },
     "execution_count": 7,
     "metadata": {},
     "output_type": "execute_result"
    }
   ],
   "source": [
    "income_df.ix[(income_df[\"Households; Estimate; Total\"] > 0), \"Households; Estimate; Median income (dollars)\"].astype(float).describe()"
   ]
  },
  {
   "cell_type": "markdown",
   "metadata": {},
   "source": [
    "### Read in grocery store data"
   ]
  },
  {
   "cell_type": "code",
   "execution_count": 8,
   "metadata": {
    "collapsed": false
   },
   "outputs": [
    {
     "data": {
      "text/html": [
       "<div>\n",
       "<table border=\"1\" class=\"dataframe\">\n",
       "  <thead>\n",
       "    <tr style=\"text-align: right;\">\n",
       "      <th></th>\n",
       "      <th>lat</th>\n",
       "      <th>lon</th>\n",
       "      <th>name</th>\n",
       "      <th>addr</th>\n",
       "    </tr>\n",
       "  </thead>\n",
       "  <tbody>\n",
       "    <tr>\n",
       "      <th>0</th>\n",
       "      <td>32.229253</td>\n",
       "      <td>-110.873651</td>\n",
       "      <td>Kimpo Market</td>\n",
       "      <td>5595 E 5th St</td>\n",
       "    </tr>\n",
       "    <tr>\n",
       "      <th>1</th>\n",
       "      <td>32.220195</td>\n",
       "      <td>-110.807966</td>\n",
       "      <td>Walmart Neighborhood Market</td>\n",
       "      <td>8640 E Broadway Blvd</td>\n",
       "    </tr>\n",
       "    <tr>\n",
       "      <th>2</th>\n",
       "      <td>32.118384</td>\n",
       "      <td>-110.798278</td>\n",
       "      <td>Safeway</td>\n",
       "      <td>9050 E Valencia Rd</td>\n",
       "    </tr>\n",
       "    <tr>\n",
       "      <th>3</th>\n",
       "      <td>32.256930</td>\n",
       "      <td>-110.943687</td>\n",
       "      <td>India Dukaan</td>\n",
       "      <td>2754 N Campbell Ave</td>\n",
       "    </tr>\n",
       "    <tr>\n",
       "      <th>4</th>\n",
       "      <td>32.193137</td>\n",
       "      <td>-110.841855</td>\n",
       "      <td>Walmart Neighborhood Market</td>\n",
       "      <td>2550 S Kolb Rd</td>\n",
       "    </tr>\n",
       "  </tbody>\n",
       "</table>\n",
       "</div>"
      ],
      "text/plain": [
       "         lat         lon                         name                  addr\n",
       "0  32.229253 -110.873651                 Kimpo Market         5595 E 5th St\n",
       "1  32.220195 -110.807966  Walmart Neighborhood Market  8640 E Broadway Blvd\n",
       "2  32.118384 -110.798278                      Safeway    9050 E Valencia Rd\n",
       "3  32.256930 -110.943687                 India Dukaan   2754 N Campbell Ave\n",
       "4  32.193137 -110.841855  Walmart Neighborhood Market        2550 S Kolb Rd"
      ]
     },
     "execution_count": 8,
     "metadata": {},
     "output_type": "execute_result"
    }
   ],
   "source": [
    "supermarkets=pd.read_csv(\"grocery_stores.csv\")\n",
    "supermarkets.head()"
   ]
  },
  {
   "cell_type": "code",
   "execution_count": 9,
   "metadata": {
    "collapsed": false
   },
   "outputs": [],
   "source": [
    "# folium stuff\n",
    "\n",
    "# geojson shape file of Arizona census tracts\n",
    "state_geo = \"arizona.json\"\n",
    "\n",
    "# initialize map\n",
    "mp = folium.Map(location=[32.2,-110.94], zoom_start=11)\n",
    "\n",
    "# map data to geo_json\n",
    "mp.geo_json(geo_path=state_geo, data=income_df.ix[(income_df[\"Households; Estimate; Total\"] > 0)]\n",
    "            ,data_out=\"median_income.json\", columns=[\"Id2\", \"Households; Estimate; Median income (dollars)\"]\n",
    "            ,key_on=\"feature.properties.GEOID\"\n",
    "            ,fill_color='YlGn'\n",
    "            ,fill_opacity=0.7\n",
    "            ,line_opacity=0.2 \n",
    "            ,threshold_scale= np.logspace(np.log10(15000), np.log10(125000), 6).tolist()\n",
    "            ,legend_name='Median Income')\n",
    "\n",
    "# plot the supermarkets on the map\n",
    "for i,row in supermarkets.iterrows():\n",
    "    mp.circle_marker(location=[str(row[\"lat\"]), str(row[\"lon\"])], popup=row[\"name\"], radius=100, fill_color=\"red\", )\n",
    "\n",
    "# generate the HTML/Javascript\n",
    "mp.create_map(path='arizona.html')"
   ]
  }
 ],
 "metadata": {
  "kernelspec": {
   "display_name": "Python 2",
   "language": "python",
   "name": "python2"
  },
  "language_info": {
   "codemirror_mode": {
    "name": "ipython",
    "version": 2
   },
   "file_extension": ".py",
   "mimetype": "text/x-python",
   "name": "python",
   "nbconvert_exporter": "python",
   "pygments_lexer": "ipython2",
   "version": "2.7.11"
  }
 },
 "nbformat": 4,
 "nbformat_minor": 0
}
